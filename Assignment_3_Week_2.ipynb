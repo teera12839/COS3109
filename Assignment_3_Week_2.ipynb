{
  "nbformat": 4,
  "nbformat_minor": 0,
  "metadata": {
    "colab": {
      "provenance": [],
      "toc_visible": true,
      "authorship_tag": "ABX9TyMwlCpW/jiDgZ6a93JGBEqV",
      "include_colab_link": true
    },
    "kernelspec": {
      "name": "python3",
      "display_name": "Python 3"
    },
    "language_info": {
      "name": "python"
    }
  },
  "cells": [
    {
      "cell_type": "markdown",
      "metadata": {
        "id": "view-in-github",
        "colab_type": "text"
      },
      "source": [
        "<a href=\"https://colab.research.google.com/github/teera12839/COS3109/blob/main/Assignment_3_Week_2.ipynb\" target=\"_parent\"><img src=\"https://colab.research.google.com/assets/colab-badge.svg\" alt=\"Open In Colab\"/></a>"
      ]
    },
    {
      "cell_type": "markdown",
      "source": [
        "# Example"
      ],
      "metadata": {
        "id": "wlQrg-Q7c3Uw"
      }
    },
    {
      "cell_type": "markdown",
      "source": [
        "##1. Hello world\n",
        "\n",
        "\n"
      ],
      "metadata": {
        "id": "pEzNpp2pdClQ"
      }
    },
    {
      "cell_type": "code",
      "source": [
        "# Never mind this statement, for compatibility reasons\n",
        "from __future__ import absolute_import, division, print_function, unicode_literals\n",
        "\n",
        "print(\"Hello World\")"
      ],
      "metadata": {
        "colab": {
          "base_uri": "https://localhost:8080/"
        },
        "id": "qB8_tZnDdWma",
        "outputId": "92fc385d-bacc-4575-e06a-8fede653adc3"
      },
      "execution_count": null,
      "outputs": [
        {
          "output_type": "stream",
          "name": "stdout",
          "text": [
            "Hello World\n"
          ]
        }
      ]
    },
    {
      "cell_type": "markdown",
      "source": [
        "##2. Function, Conditionals, and Iteration"
      ],
      "metadata": {
        "id": "xnnRKkBN5W4Q"
      }
    },
    {
      "cell_type": "code",
      "source": [
        "def HelloWorldXY(x, y):\n",
        "  if (x < 10):\n",
        "    print(\"Hello World, x was < 10\")\n",
        "  elif (x < 20):\n",
        "    print(\"Hello World, x was >= 10 but < 20\")\n",
        "  else:\n",
        "    print(\"Hello World, x was >= 20\")\n",
        "  return x + y\n",
        "\n",
        "for i in range(8, 25, 5): # i=8, 13, 18, 23 (start, stop, step)\n",
        "  print(\"--- Now running with i: {}\".format(i))\n",
        "  r = HelloWorldXY(i,i)\n",
        "  print(\"Result from HelloWorld: {}\".format(r))"
      ],
      "metadata": {
        "colab": {
          "base_uri": "https://localhost:8080/"
        },
        "id": "V2f_Ublp6T0_",
        "outputId": "8a98e53c-fbf8-4c5d-ecf2-6765f9e3da06"
      },
      "execution_count": null,
      "outputs": [
        {
          "output_type": "stream",
          "name": "stdout",
          "text": [
            "--- Now running with i: 8\n",
            "Hello World, x was < 10\n",
            "Result from HelloWorld: 16\n",
            "--- Now running with i: 13\n",
            "Hello World, x was >= 10 but < 20\n",
            "Result from HelloWorld: 26\n",
            "--- Now running with i: 18\n",
            "Hello World, x was >= 10 but < 20\n",
            "Result from HelloWorld: 36\n",
            "--- Now running with i: 23\n",
            "Hello World, x was >= 20\n",
            "Result from HelloWorld: 46\n"
          ]
        }
      ]
    },
    {
      "cell_type": "code",
      "source": [
        "print(HelloWorldXY(1,2))"
      ],
      "metadata": {
        "colab": {
          "base_uri": "https://localhost:8080/"
        },
        "id": "JiOa4vD6AKbm",
        "outputId": "8c5e4cc4-a6e7-407e-d852-53ea7c918b40"
      },
      "execution_count": null,
      "outputs": [
        {
          "output_type": "stream",
          "name": "stdout",
          "text": [
            "Hello World, x was < 10\n",
            "3\n"
          ]
        }
      ]
    },
    {
      "cell_type": "markdown",
      "source": [
        "##3. Various kinds of loops starting at 0 to 2"
      ],
      "metadata": {
        "id": "0cp5jzCU6S46"
      }
    },
    {
      "cell_type": "code",
      "source": [
        "print(\"Iterate over the items. `range(2)` is like a list [0,1].\")\n",
        "for i in range(2):\n",
        "  print(i)\n",
        "\n",
        "print(\"Iterate over an actual list.\")\n",
        "for i in [0,1]:\n",
        "  print(i)\n",
        "\n",
        "print(\"While works\")\n",
        "i = 0\n",
        "while i < 2:\n",
        "  print(i)\n",
        "  i += 1"
      ],
      "metadata": {
        "colab": {
          "base_uri": "https://localhost:8080/"
        },
        "id": "rQFbbppF8Euy",
        "outputId": "164c614b-a9e7-4b7c-a915-a8cb2eafdcc4"
      },
      "execution_count": null,
      "outputs": [
        {
          "output_type": "stream",
          "name": "stdout",
          "text": [
            "Iterate over the items. `range(2)` is like a list [0,1].\n",
            "0\n",
            "1\n",
            "Iterate over an actual list.\n",
            "0\n",
            "1\n",
            "While works\n",
            "0\n",
            "1\n"
          ]
        }
      ]
    },
    {
      "cell_type": "markdown",
      "source": [
        "##4. Numpy and lists"
      ],
      "metadata": {
        "id": "wDvpAEkw-25Z"
      }
    },
    {
      "cell_type": "markdown",
      "source": [
        "**Numpy** as np is the fundamental package for scientific computing with Python."
      ],
      "metadata": {
        "id": "9EFS-X82_J7t"
      }
    },
    {
      "cell_type": "markdown",
      "source": [
        "**Lists (Array)** are data structure in Python that is a mutable, or changeable, ordered sequence of elements. Each\n",
        "element or value that is inside of a list is called an item. Just as strings are defined as characters between quotes,\n",
        "lists are defined by having values between square brackets [ ]."
      ],
      "metadata": {
        "id": "K6Ku8wdK_6hE"
      }
    },
    {
      "cell_type": "code",
      "source": [
        "sea_creatures = ['shark', 'cuttlefish', 'squid', 'mantis shrimp', 'anemone']"
      ],
      "metadata": {
        "id": "ExL8WWyiARwZ"
      },
      "execution_count": null,
      "outputs": []
    },
    {
      "cell_type": "code",
      "source": [
        "sea_creatures[0] = 'shark'\n",
        "sea_creatures[2] = 'squid'\n",
        "sea_creatures[4] = 'anemone'"
      ],
      "metadata": {
        "id": "SpGpbCy9AUFS"
      },
      "execution_count": null,
      "outputs": []
    },
    {
      "cell_type": "code",
      "source": [
        "import numpy as np # Make numpy available using np.\n",
        "\n",
        "# Create a numpy array, and append an element\n",
        "a = np.array([\"Hello\", \"World\"])\n",
        "a = np.append(a, \"!\")\n",
        "print(\"Current array: {}\".format(a))\n",
        "print(\"Printing each element\")\n",
        "for i in a:\n",
        "  print(i)\n",
        "\n",
        "print(\"\\nPrinting each element and their index\")\n",
        "for i,e in enumerate(a):\n",
        "  print(\"Index: {}, was: {}\".format(i, e))"
      ],
      "metadata": {
        "colab": {
          "base_uri": "https://localhost:8080/"
        },
        "id": "i6aVRJR4Au0K",
        "outputId": "78d5dcbd-6771-403e-83dc-9ecb5dec81a0"
      },
      "execution_count": null,
      "outputs": [
        {
          "output_type": "stream",
          "name": "stdout",
          "text": [
            "Current array: ['Hello' 'World' '!']\n",
            "Printing each element\n",
            "Hello\n",
            "World\n",
            "!\n",
            "\n",
            "Printing each element and their index\n",
            "Index: 0, was: Hello\n",
            "Index: 1, was: World\n",
            "Index: 2, was: !\n"
          ]
        }
      ]
    },
    {
      "cell_type": "code",
      "source": [
        "print(\"\\nShowing some basic math on arrays\")\n",
        "b = np.array([0,1,4,3,2])\n",
        "print(\"Max: {}\".format(np.max(b)))\n",
        "print(\"Average: {}\".format(np.average(b)))\n",
        "print(\"Max index: {}\".format(np.argmax(b)))"
      ],
      "metadata": {
        "colab": {
          "base_uri": "https://localhost:8080/"
        },
        "id": "WvTC31A4A9DT",
        "outputId": "2f021e0e-c9f6-4e0c-fddf-098f9a3d7f84"
      },
      "execution_count": null,
      "outputs": [
        {
          "output_type": "stream",
          "name": "stdout",
          "text": [
            "\n",
            "Showing some basic math on arrays\n",
            "Max: 4\n",
            "Average: 2.0\n",
            "Max index: 2\n"
          ]
        }
      ]
    },
    {
      "cell_type": "code",
      "source": [
        "print(\"\\nYou can print the type of anything\")\n",
        "print(\"Type of b: {}, type of b[0]: {}\".format(type(b), type(b[0])))"
      ],
      "metadata": {
        "colab": {
          "base_uri": "https://localhost:8080/"
        },
        "id": "8ypS2otMBD41",
        "outputId": "463b6764-9304-4602-d84f-c93b1db4e03c"
      },
      "execution_count": null,
      "outputs": [
        {
          "output_type": "stream",
          "name": "stdout",
          "text": [
            "\n",
            "You can print the type of anything\n",
            "Type of b: <class 'numpy.ndarray'>, type of b[0]: <class 'numpy.int64'>\n"
          ]
        }
      ]
    },
    {
      "cell_type": "code",
      "source": [
        "print(\"\\nUse numpy to create a [3,3] dimension array with random number\")\n",
        "c = np.random.rand(3, 3)\n",
        "print(c)"
      ],
      "metadata": {
        "colab": {
          "base_uri": "https://localhost:8080/"
        },
        "id": "LNZBcv0dBKyK",
        "outputId": "c550d6ea-c930-4bc2-ad21-9534ba005d67"
      },
      "execution_count": null,
      "outputs": [
        {
          "output_type": "stream",
          "name": "stdout",
          "text": [
            "\n",
            "Use numpy to create a [3,3] dimension array with random number\n",
            "[[0.26230159 0.48037459 0.04025537]\n",
            " [0.18075766 0.82794689 0.72074939]\n",
            " [0.91418828 0.44160109 0.08499237]]\n"
          ]
        }
      ]
    },
    {
      "cell_type": "code",
      "source": [
        "print(\"\\nShowing some basic math on arrays\")\n",
        "b = np.array([0,1,4,3,2])\n",
        "print(\"Max: {}\".format(np.max(b)))\n",
        "print(\"Average: {}\".format(np.average(b)))\n",
        "print(\"Max index: {}\".format(np.argmax(b)))"
      ],
      "metadata": {
        "colab": {
          "base_uri": "https://localhost:8080/"
        },
        "id": "wbp12UZYBUpV",
        "outputId": "a135fe40-3f19-4de5-fa29-3f69e3df32ee"
      },
      "execution_count": null,
      "outputs": [
        {
          "output_type": "stream",
          "name": "stdout",
          "text": [
            "\n",
            "Showing some basic math on arrays\n",
            "Max: 4\n",
            "Average: 2.0\n",
            "Max index: 2\n"
          ]
        }
      ]
    },
    {
      "cell_type": "code",
      "source": [
        "print(\"\\nYou can print the dimensions of arrays\")\n",
        "print(\"Shape of a: {}\".format(a.shape))\n",
        "print(\"Shape of b: {}\".format(b.shape))\n",
        "print(\"Shape of c: {}\".format(c.shape))"
      ],
      "metadata": {
        "colab": {
          "base_uri": "https://localhost:8080/"
        },
        "id": "0SQkGqRBBZKy",
        "outputId": "6caf7f63-d27b-4a34-bde2-e4137aaf5118"
      },
      "execution_count": null,
      "outputs": [
        {
          "output_type": "stream",
          "name": "stdout",
          "text": [
            "\n",
            "You can print the dimensions of arrays\n",
            "Shape of a: (3,)\n",
            "Shape of b: (5,)\n",
            "Shape of c: (3, 3)\n"
          ]
        }
      ]
    },
    {
      "cell_type": "markdown",
      "source": [
        "##5.Colab Specifics: to run commands at the VM's terminal, prefix the line with an exclamation point (!)"
      ],
      "metadata": {
        "id": "UEIrVVbpDufA"
      }
    },
    {
      "cell_type": "code",
      "source": [
        "print(\"\\nDoing $ls on filesystem\")\n",
        "!ls -l\n",
        "!pwd"
      ],
      "metadata": {
        "colab": {
          "base_uri": "https://localhost:8080/"
        },
        "id": "Bv5H4dgvD7Cq",
        "outputId": "e21859c6-82ca-473d-e572-6634606003e4"
      },
      "execution_count": null,
      "outputs": [
        {
          "output_type": "stream",
          "name": "stdout",
          "text": [
            "\n",
            "Doing $ls on filesystem\n",
            "total 0\n",
            "/root\n"
          ]
        }
      ]
    },
    {
      "cell_type": "code",
      "source": [
        "print(\"Install numpy\") # Just for test, numpy is actually preinstalled in all Colab instancs\n",
        "!pip install numpy"
      ],
      "metadata": {
        "colab": {
          "base_uri": "https://localhost:8080/"
        },
        "id": "Wr7vzXuxEOHZ",
        "outputId": "7ec6bafb-5036-4acc-893f-9c4caa2f635d"
      },
      "execution_count": null,
      "outputs": [
        {
          "output_type": "stream",
          "name": "stdout",
          "text": [
            "Install numpy\n",
            "Requirement already satisfied: numpy in /usr/local/lib/python3.10/dist-packages (1.25.2)\n"
          ]
        }
      ]
    },
    {
      "cell_type": "markdown",
      "source": [
        "# Exercise"
      ],
      "metadata": {
        "id": "THRIX6xWGOyw"
      }
    },
    {
      "cell_type": "markdown",
      "source": [
        "## 1. Colab: Create a code cell underneath this text cell and add code to:\n",
        "- List the path of the current directory (pwd)\n",
        "- Go to / (cd) and list the content (ls-l)"
      ],
      "metadata": {
        "id": "O98IE8RjGeJ5"
      }
    },
    {
      "cell_type": "code",
      "source": [
        "!pwd\n",
        "%cd\n",
        "!ls -l"
      ],
      "metadata": {
        "colab": {
          "base_uri": "https://localhost:8080/"
        },
        "id": "mUW04tOxHFMm",
        "outputId": "58187167-d77b-4522-91de-3cc2eaaefd23"
      },
      "execution_count": null,
      "outputs": [
        {
          "output_type": "stream",
          "name": "stdout",
          "text": [
            "/root\n",
            "/root\n",
            "total 0\n"
          ]
        }
      ]
    },
    {
      "cell_type": "markdown",
      "source": [
        "##2. Python lists without Numpy: Print the second item in the fruits list:\n",
        "fruits = [\"apple\", \"banana\", \"cherry\"]"
      ],
      "metadata": {
        "id": "Ck_bKn1-IOih"
      }
    },
    {
      "cell_type": "code",
      "source": [
        "fruits = [\"apple\", \"banana\", \"cherry\"]\n",
        "print(fruits[1])"
      ],
      "metadata": {
        "colab": {
          "base_uri": "https://localhost:8080/"
        },
        "id": "j8LDhqi-Ib9u",
        "outputId": "45740d32-74ae-4d49-b6ab-53d4f8dad342"
      },
      "execution_count": null,
      "outputs": [
        {
          "output_type": "stream",
          "name": "stdout",
          "text": [
            "banana\n"
          ]
        }
      ]
    },
    {
      "cell_type": "markdown",
      "source": [
        "##3. Change the value from “apple” to “kiwi”, in the fruits list:"
      ],
      "metadata": {
        "id": "MgdjHpSDI3tn"
      }
    },
    {
      "cell_type": "code",
      "source": [
        "fruits[0] = \"kiwi\"\n",
        "print(fruits)"
      ],
      "metadata": {
        "colab": {
          "base_uri": "https://localhost:8080/"
        },
        "id": "-1ms-iXTI83p",
        "outputId": "afb8a31e-23b4-47fc-9534-12d4cc4804f3"
      },
      "execution_count": null,
      "outputs": [
        {
          "output_type": "stream",
          "name": "stdout",
          "text": [
            "['kiwi', 'banana', 'cherry']\n"
          ]
        }
      ]
    },
    {
      "cell_type": "markdown",
      "source": [
        "##4. Use the append method to add “orange” to the fruits list:"
      ],
      "metadata": {
        "id": "ZlDZUkHWJPGQ"
      }
    },
    {
      "cell_type": "code",
      "source": [
        "fruits.append(\"orange\")\n",
        "print(fruits)"
      ],
      "metadata": {
        "colab": {
          "base_uri": "https://localhost:8080/"
        },
        "id": "EGvj0kLhJSfB",
        "outputId": "334d8b5d-42a5-440e-b6c3-87eaae2a2b57"
      },
      "execution_count": null,
      "outputs": [
        {
          "output_type": "stream",
          "name": "stdout",
          "text": [
            "['kiwi', 'banana', 'cherry', 'orange']\n"
          ]
        }
      ]
    },
    {
      "cell_type": "markdown",
      "source": [
        "##5. Use the insert method to add “lemon” as the second item in the fruits list:"
      ],
      "metadata": {
        "id": "nfbcDcncJmtg"
      }
    },
    {
      "cell_type": "code",
      "source": [
        "fruits.insert(1, \"lemon\")\n",
        "print(fruits)"
      ],
      "metadata": {
        "colab": {
          "base_uri": "https://localhost:8080/"
        },
        "id": "Rn90R0XnJrc1",
        "outputId": "604e7db0-ac78-40ba-fc4f-331a246c7ae4"
      },
      "execution_count": null,
      "outputs": [
        {
          "output_type": "stream",
          "name": "stdout",
          "text": [
            "['kiwi', 'lemon', 'banana', 'cherry', 'orange']\n"
          ]
        }
      ]
    },
    {
      "cell_type": "markdown",
      "source": [
        "##6. Use the remove method to delete “banana” from the fruits list:"
      ],
      "metadata": {
        "id": "79jVoayGJ2p0"
      }
    },
    {
      "cell_type": "code",
      "source": [
        "fruits.remove(\"banana\")\n",
        "print(fruits)"
      ],
      "metadata": {
        "colab": {
          "base_uri": "https://localhost:8080/"
        },
        "id": "fYta1ZnmJ7z-",
        "outputId": "dc12f3d5-a73a-4334-ca04-41fbb60f91f0"
      },
      "execution_count": null,
      "outputs": [
        {
          "output_type": "stream",
          "name": "stdout",
          "text": [
            "['kiwi', 'lemon', 'cherry', 'orange']\n"
          ]
        }
      ]
    },
    {
      "cell_type": "markdown",
      "source": [
        "##7. Python If...Else: Print “Hello World” if a is greater than b:"
      ],
      "metadata": {
        "id": "TDMLxKZMKJuL"
      }
    },
    {
      "cell_type": "markdown",
      "source": [
        "                            a = 50 c = 20\n",
        "                            b = 10 d = 20"
      ],
      "metadata": {
        "id": "sPWA7TIoKOnb"
      }
    },
    {
      "cell_type": "code",
      "source": [
        "a = 50\n",
        "b = 10\n",
        "c = 20\n",
        "d = 20\n",
        "if (a > b):\n",
        "  print(\"Hello World\")"
      ],
      "metadata": {
        "colab": {
          "base_uri": "https://localhost:8080/"
        },
        "id": "dUUcZVi5KY_V",
        "outputId": "f6d1bb1a-460a-4b29-fcf1-91dda37b0b69"
      },
      "execution_count": null,
      "outputs": [
        {
          "output_type": "stream",
          "name": "stdout",
          "text": [
            "Hello World\n"
          ]
        }
      ]
    },
    {
      "cell_type": "markdown",
      "source": [
        "##8. Print “Hello World” if a is not equal to b:"
      ],
      "metadata": {
        "id": "ARQ7KK69LS4M"
      }
    },
    {
      "cell_type": "code",
      "source": [
        "if (a != b):\n",
        "  print(\"Hello World\")"
      ],
      "metadata": {
        "colab": {
          "base_uri": "https://localhost:8080/"
        },
        "id": "q0vREiUOLXJH",
        "outputId": "e28a6696-0c4c-473a-eb16-0c54a25fb5a3"
      },
      "execution_count": null,
      "outputs": [
        {
          "output_type": "stream",
          "name": "stdout",
          "text": [
            "Hello World\n"
          ]
        }
      ]
    },
    {
      "cell_type": "markdown",
      "source": [
        "##9. Print “Yes” if a is equal to b, otherwise print “No”:"
      ],
      "metadata": {
        "id": "8nCyQ0zWLjL_"
      }
    },
    {
      "cell_type": "code",
      "source": [
        "if (a == b):\n",
        "  print(\"Yes\")\n",
        "else:\n",
        "  print(\"No\")"
      ],
      "metadata": {
        "colab": {
          "base_uri": "https://localhost:8080/"
        },
        "id": "EZMufi_mLmfl",
        "outputId": "d6573ddd-9031-4268-8ece-39d52bf58622"
      },
      "execution_count": null,
      "outputs": [
        {
          "output_type": "stream",
          "name": "stdout",
          "text": [
            "No\n"
          ]
        }
      ]
    },
    {
      "cell_type": "markdown",
      "source": [
        "##10. Print “1” if a is equal to b, print “2” if a is greater than b, otherwise print “3”:"
      ],
      "metadata": {
        "id": "OpKDx5ESL3Zw"
      }
    },
    {
      "cell_type": "code",
      "source": [
        "if (a == b):\n",
        "  print(\"1\")\n",
        "elif (a > b):\n",
        "  print(\"2\")\n",
        "else:\n",
        "  print(\"3\")"
      ],
      "metadata": {
        "colab": {
          "base_uri": "https://localhost:8080/"
        },
        "id": "YUP3Xi4VL76M",
        "outputId": "f06e3be7-ab7a-4a5c-d63e-601ca960797d"
      },
      "execution_count": null,
      "outputs": [
        {
          "output_type": "stream",
          "name": "stdout",
          "text": [
            "2\n"
          ]
        }
      ]
    },
    {
      "cell_type": "markdown",
      "source": [
        "##11. Print “Hello” if a is equal to b, and c is equal to d:"
      ],
      "metadata": {
        "id": "tW16fJywM3va"
      }
    },
    {
      "cell_type": "code",
      "source": [
        "if (a == b and c == d):\n",
        "  print (\"Hello\")"
      ],
      "metadata": {
        "id": "eAK4on6xM8B1"
      },
      "execution_count": null,
      "outputs": []
    },
    {
      "cell_type": "markdown",
      "source": [
        "##12. Print “Hello” if either a is equal to b, or c is equal to d:"
      ],
      "metadata": {
        "id": "ET9X5HtZNNTH"
      }
    },
    {
      "cell_type": "code",
      "source": [
        "if (a == b or c == d):\n",
        "  print (\"Hello\")"
      ],
      "metadata": {
        "colab": {
          "base_uri": "https://localhost:8080/"
        },
        "id": "qi_PH8JaNUiY",
        "outputId": "da3a884c-51f6-47d5-d531-dfce8e2aa877"
      },
      "execution_count": null,
      "outputs": [
        {
          "output_type": "stream",
          "name": "stdout",
          "text": [
            "Hello\n"
          ]
        }
      ]
    },
    {
      "cell_type": "markdown",
      "source": [
        "##13. Python Loops: Print i as long as i is less than 6:"
      ],
      "metadata": {
        "id": "W3B9sGMRNbKp"
      }
    },
    {
      "cell_type": "code",
      "source": [
        "for i in range(6):\n",
        "  print(i)"
      ],
      "metadata": {
        "colab": {
          "base_uri": "https://localhost:8080/"
        },
        "id": "yzALT9hBNolu",
        "outputId": "96dfc695-22b7-4292-c46c-783f634250d2"
      },
      "execution_count": null,
      "outputs": [
        {
          "output_type": "stream",
          "name": "stdout",
          "text": [
            "0\n",
            "1\n",
            "2\n",
            "3\n",
            "4\n",
            "5\n"
          ]
        }
      ]
    },
    {
      "cell_type": "markdown",
      "source": [
        "##14. From #13 stop the loop if i is 3:"
      ],
      "metadata": {
        "id": "kIlFuwJCOX3S"
      }
    },
    {
      "cell_type": "code",
      "source": [
        "for i in range(6):\n",
        "  if (i == 3):\n",
        "    break\n",
        "  print(i)"
      ],
      "metadata": {
        "colab": {
          "base_uri": "https://localhost:8080/"
        },
        "id": "UzOMIoKDOira",
        "outputId": "88c6bae1-7040-4f4f-929e-2d9ff79270f1"
      },
      "execution_count": null,
      "outputs": [
        {
          "output_type": "stream",
          "name": "stdout",
          "text": [
            "0\n",
            "1\n",
            "2\n"
          ]
        }
      ]
    }
  ]
}